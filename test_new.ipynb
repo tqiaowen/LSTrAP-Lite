{
  "nbformat": 4,
  "nbformat_minor": 0,
  "metadata": {
    "colab": {
      "name": "test_new.ipynb",
      "provenance": [],
      "include_colab_link": true
    },
    "kernelspec": {
      "name": "python3",
      "display_name": "Python 3"
    }
  },
  "cells": [
    {
      "cell_type": "markdown",
      "metadata": {
        "id": "view-in-github",
        "colab_type": "text"
      },
      "source": [
        "<a href=\"https://colab.research.google.com/github/tqiaowen/LSTrAP-Lite/blob/master/test_new.ipynb\" target=\"_parent\"><img src=\"https://colab.research.google.com/assets/colab-badge.svg\" alt=\"Open In Colab\"/></a>"
      ]
    },
    {
      "cell_type": "code",
      "metadata": {
        "id": "LlZjZJWpqNYR",
        "colab_type": "code",
        "colab": {
          "base_uri": "https://localhost:8080/",
          "height": 119
        },
        "outputId": "99b0b4be-0240-4e11-8c97-f534c7b996b4"
      },
      "source": [
        "!git clone https://github.com/tqiaowen/git_test.git"
      ],
      "execution_count": 62,
      "outputs": [
        {
          "output_type": "stream",
          "text": [
            "Cloning into 'git_test'...\n",
            "remote: Enumerating objects: 21, done.\u001b[K\n",
            "remote: Counting objects: 100% (21/21), done.\u001b[K\n",
            "remote: Compressing objects: 100% (15/15), done.\u001b[K\n",
            "remote: Total 21 (delta 2), reused 0 (delta 0), pack-reused 0\u001b[K\n",
            "Unpacking objects: 100% (21/21), done.\n"
          ],
          "name": "stdout"
        }
      ]
    },
    {
      "cell_type": "code",
      "metadata": {
        "id": "pgE0sBF-2T2Y",
        "colab_type": "code",
        "colab": {
          "base_uri": "https://localhost:8080/",
          "height": 51
        },
        "outputId": "29d7bdf9-b2ff-43fb-a29b-28a9a32201a7"
      },
      "source": [
        "!ls\n",
        "%cd git_test"
      ],
      "execution_count": 65,
      "outputs": [
        {
          "output_type": "stream",
          "text": [
            "git_test  sample_data\n",
            "/content/git_test\n"
          ],
          "name": "stdout"
        }
      ]
    },
    {
      "cell_type": "code",
      "metadata": {
        "id": "mdJjsnwJ2L7P",
        "colab_type": "code",
        "colab": {}
      },
      "source": [
        "!echo \"hello\" > hello.txt"
      ],
      "execution_count": 0,
      "outputs": []
    },
    {
      "cell_type": "code",
      "metadata": {
        "id": "OdhJhm-b2cyG",
        "colab_type": "code",
        "colab": {}
      },
      "source": [
        "!git add ."
      ],
      "execution_count": 0,
      "outputs": []
    },
    {
      "cell_type": "code",
      "metadata": {
        "id": "f3DfO3DgxJ-o",
        "colab_type": "code",
        "colab": {}
      },
      "source": [
        "!git config user.email \"tqiaowen@gmail.com\""
      ],
      "execution_count": 0,
      "outputs": []
    },
    {
      "cell_type": "code",
      "metadata": {
        "id": "GT8I1CjrxVmZ",
        "colab_type": "code",
        "colab": {
          "base_uri": "https://localhost:8080/",
          "height": 68
        },
        "outputId": "417614ad-b6b2-467a-b27d-2c2ce919862e"
      },
      "source": [
        "!git commit -am \"add hello.txt\""
      ],
      "execution_count": 71,
      "outputs": [
        {
          "output_type": "stream",
          "text": [
            "[master 75f7001] add hello.txt\n",
            " 1 file changed, 1 insertion(+)\n",
            " create mode 100644 hello.txt\n"
          ],
          "name": "stdout"
        }
      ]
    },
    {
      "cell_type": "code",
      "metadata": {
        "id": "mHM7GPGn2zIp",
        "colab_type": "code",
        "colab": {}
      },
      "source": [
        "!git remote set-url origin git@github.com:tqiaowen/git_test.git"
      ],
      "execution_count": 0,
      "outputs": []
    },
    {
      "cell_type": "code",
      "metadata": {
        "id": "NUoGAqHAxi8Y",
        "colab_type": "code",
        "colab": {
          "base_uri": "https://localhost:8080/",
          "height": 102
        },
        "outputId": "1838b1b1-50e8-40fe-da83-43696f4729c1"
      },
      "source": [
        "!git pull https://github.com/tqiaowen/git_test master"
      ],
      "execution_count": 77,
      "outputs": [
        {
          "output_type": "stream",
          "text": [
            "Host key verification failed.\r\n",
            "fatal: Could not read from remote repository.\n",
            "\n",
            "Please make sure you have the correct access rights\n",
            "and the repository exists.\n"
          ],
          "name": "stdout"
        }
      ]
    },
    {
      "cell_type": "markdown",
      "metadata": {
        "id": "36qqjVPy5sU5",
        "colab_type": "text"
      },
      "source": [
        "Checking for ssh issues."
      ]
    },
    {
      "cell_type": "code",
      "metadata": {
        "id": "Kb0OVVik4ibX",
        "colab_type": "code",
        "colab": {
          "base_uri": "https://localhost:8080/",
          "height": 1000
        },
        "outputId": "a71f1d16-4769-4046-b04c-85fecf090450"
      },
      "source": [
        "!ssh git@github.com -vvvv"
      ],
      "execution_count": 79,
      "outputs": [
        {
          "output_type": "stream",
          "text": [
            "OpenSSH_7.6p1 Ubuntu-4ubuntu0.3, OpenSSL 1.0.2n  7 Dec 2017\r\n",
            "debug1: Reading configuration data /etc/ssh/ssh_config\r\n",
            "debug1: /etc/ssh/ssh_config line 19: Applying options for *\r\n",
            "debug2: resolving \"github.com\" port 22\r\n",
            "debug2: ssh_connect_direct: needpriv 0\r\n",
            "debug1: Connecting to github.com [140.82.113.4] port 22.\r\n",
            "debug1: Connection established.\r\n",
            "debug1: permanently_set_uid: 0/0\r\n",
            "debug1: key_load_public: No such file or directory\r\n",
            "debug1: identity file /root/.ssh/id_rsa type -1\r\n",
            "debug1: key_load_public: No such file or directory\r\n",
            "debug1: identity file /root/.ssh/id_rsa-cert type -1\r\n",
            "debug1: key_load_public: No such file or directory\r\n",
            "debug1: identity file /root/.ssh/id_dsa type -1\r\n",
            "debug1: key_load_public: No such file or directory\r\n",
            "debug1: identity file /root/.ssh/id_dsa-cert type -1\r\n",
            "debug1: key_load_public: No such file or directory\r\n",
            "debug1: identity file /root/.ssh/id_ecdsa type -1\r\n",
            "debug1: key_load_public: No such file or directory\r\n",
            "debug1: identity file /root/.ssh/id_ecdsa-cert type -1\r\n",
            "debug1: key_load_public: No such file or directory\r\n",
            "debug1: identity file /root/.ssh/id_ed25519 type -1\r\n",
            "debug1: key_load_public: No such file or directory\r\n",
            "debug1: identity file /root/.ssh/id_ed25519-cert type -1\r\n",
            "debug1: Local version string SSH-2.0-OpenSSH_7.6p1 Ubuntu-4ubuntu0.3\r\n",
            "debug1: Remote protocol version 2.0, remote software version babeld-778045a0\r\n",
            "debug1: no match: babeld-778045a0\r\n",
            "debug2: fd 3 setting O_NONBLOCK\r\n",
            "debug1: Authenticating to github.com:22 as 'git'\r\n",
            "debug3: send packet: type 20\r\n",
            "debug1: SSH2_MSG_KEXINIT sent\r\n",
            "debug3: receive packet: type 20\r\n",
            "debug1: SSH2_MSG_KEXINIT received\r\n",
            "debug2: local client KEXINIT proposal\r\n",
            "debug2: KEX algorithms: curve25519-sha256,curve25519-sha256@libssh.org,ecdh-sha2-nistp256,ecdh-sha2-nistp384,ecdh-sha2-nistp521,diffie-hellman-group-exchange-sha256,diffie-hellman-group16-sha512,diffie-hellman-group18-sha512,diffie-hellman-group-exchange-sha1,diffie-hellman-group14-sha256,diffie-hellman-group14-sha1,ext-info-c\r\n",
            "debug2: host key algorithms: ecdsa-sha2-nistp256-cert-v01@openssh.com,ecdsa-sha2-nistp384-cert-v01@openssh.com,ecdsa-sha2-nistp521-cert-v01@openssh.com,ssh-ed25519-cert-v01@openssh.com,ssh-rsa-cert-v01@openssh.com,ecdsa-sha2-nistp256,ecdsa-sha2-nistp384,ecdsa-sha2-nistp521,ssh-ed25519,rsa-sha2-512,rsa-sha2-256,ssh-rsa\r\n",
            "debug2: ciphers ctos: chacha20-poly1305@openssh.com,aes128-ctr,aes192-ctr,aes256-ctr,aes128-gcm@openssh.com,aes256-gcm@openssh.com\r\n",
            "debug2: ciphers stoc: chacha20-poly1305@openssh.com,aes128-ctr,aes192-ctr,aes256-ctr,aes128-gcm@openssh.com,aes256-gcm@openssh.com\r\n",
            "debug2: MACs ctos: umac-64-etm@openssh.com,umac-128-etm@openssh.com,hmac-sha2-256-etm@openssh.com,hmac-sha2-512-etm@openssh.com,hmac-sha1-etm@openssh.com,umac-64@openssh.com,umac-128@openssh.com,hmac-sha2-256,hmac-sha2-512,hmac-sha1\r\n",
            "debug2: MACs stoc: umac-64-etm@openssh.com,umac-128-etm@openssh.com,hmac-sha2-256-etm@openssh.com,hmac-sha2-512-etm@openssh.com,hmac-sha1-etm@openssh.com,umac-64@openssh.com,umac-128@openssh.com,hmac-sha2-256,hmac-sha2-512,hmac-sha1\r\n",
            "debug2: compression ctos: none,zlib@openssh.com,zlib\r\n",
            "debug2: compression stoc: none,zlib@openssh.com,zlib\r\n",
            "debug2: languages ctos: \r\n",
            "debug2: languages stoc: \r\n",
            "debug2: first_kex_follows 0 \r\n",
            "debug2: reserved 0 \r\n",
            "debug2: peer server KEXINIT proposal\r\n",
            "debug2: KEX algorithms: curve25519-sha256,curve25519-sha256@libssh.org,ecdh-sha2-nistp256,ecdh-sha2-nistp384,ecdh-sha2-nistp521,diffie-hellman-group-exchange-sha256\r\n",
            "debug2: host key algorithms: ssh-dss,rsa-sha2-512,rsa-sha2-256,ssh-rsa\r\n",
            "debug2: ciphers ctos: chacha20-poly1305@openssh.com,aes256-gcm@openssh.com,aes128-gcm@openssh.com,aes256-ctr,aes192-ctr,aes128-ctr,aes256-cbc,aes192-cbc,aes128-cbc\r\n",
            "debug2: ciphers stoc: chacha20-poly1305@openssh.com,aes256-gcm@openssh.com,aes128-gcm@openssh.com,aes256-ctr,aes192-ctr,aes128-ctr,aes256-cbc,aes192-cbc,aes128-cbc\r\n",
            "debug2: MACs ctos: hmac-sha2-256-etm@openssh.com,hmac-sha2-512-etm@openssh.com,hmac-sha1-etm@openssh.com,hmac-sha2-256,hmac-sha2-512,hmac-sha1\r\n",
            "debug2: MACs stoc: hmac-sha2-256-etm@openssh.com,hmac-sha2-512-etm@openssh.com,hmac-sha1-etm@openssh.com,hmac-sha2-256,hmac-sha2-512,hmac-sha1\r\n",
            "debug2: compression ctos: none,zlib,zlib@openssh.com\r\n",
            "debug2: compression stoc: none,zlib,zlib@openssh.com\r\n",
            "debug2: languages ctos: \r\n",
            "debug2: languages stoc: \r\n",
            "debug2: first_kex_follows 0 \r\n",
            "debug2: reserved 0 \r\n",
            "debug1: kex: algorithm: curve25519-sha256\r\n",
            "debug1: kex: host key algorithm: rsa-sha2-512\r\n",
            "debug1: kex: server->client cipher: chacha20-poly1305@openssh.com MAC: <implicit> compression: none\r\n",
            "debug1: kex: client->server cipher: chacha20-poly1305@openssh.com MAC: <implicit> compression: none\r\n",
            "debug3: send packet: type 30\r\n",
            "debug1: expecting SSH2_MSG_KEX_ECDH_REPLY\n",
            "debug3: receive packet: type 31\n",
            "debug1: Server host key: ssh-rsa SHA256:nThbg6kXUpJWGl7E1IGOCspRomTxdCARLviKw6E5SY8\n",
            "debug1: read_passphrase: can't open /dev/tty: No such device or address\n",
            "Host key verification failed.\n"
          ],
          "name": "stdout"
        }
      ]
    },
    {
      "cell_type": "markdown",
      "metadata": {
        "id": "PHPEMetm50p5",
        "colab_type": "text"
      },
      "source": [
        "Checking for ssh keys. None observed."
      ]
    },
    {
      "cell_type": "code",
      "metadata": {
        "id": "-HYW9UnP5U6Y",
        "colab_type": "code",
        "colab": {
          "base_uri": "https://localhost:8080/",
          "height": 68
        },
        "outputId": "05d4dc27-30fd-4c67-ed2f-0ddd55283c6b"
      },
      "source": [
        "ls -al ~/.ssh"
      ],
      "execution_count": 80,
      "outputs": [
        {
          "output_type": "stream",
          "text": [
            "total 12\n",
            "drwx------ 2 root root 4096 Jan  3 05:24 \u001b[0m\u001b[01;34m.\u001b[0m/\n",
            "drwx------ 1 root root 4096 Jan  3 05:24 \u001b[01;34m..\u001b[0m/\n"
          ],
          "name": "stdout"
        }
      ]
    },
    {
      "cell_type": "markdown",
      "metadata": {
        "id": "zxwa3WQI55qS",
        "colab_type": "text"
      },
      "source": [
        "Creating new ssh key\n",
        "https://help.github.com/en/github/authenticating-to-github/checking-for-existing-ssh-keys\n",
        "\n",
        "https://help.github.com/en/github/authenticating-to-github/generating-a-new-ssh-key-and-adding-it-to-the-ssh-agent"
      ]
    },
    {
      "cell_type": "code",
      "metadata": {
        "id": "C0F7P03_57Mn",
        "colab_type": "code",
        "colab": {
          "base_uri": "https://localhost:8080/",
          "height": 357
        },
        "outputId": "4c080a2c-5b68-4969-90fc-b50d9fbae151"
      },
      "source": [
        "!ssh-keygen -t rsa -b 4096 -C \"tqiaowen@gmail.com\""
      ],
      "execution_count": 82,
      "outputs": [
        {
          "output_type": "stream",
          "text": [
            "Generating public/private rsa key pair.\n",
            "Enter file in which to save the key (/root/.ssh/id_rsa): \n",
            "Enter passphrase (empty for no passphrase): Qiao1Wen2\n",
            "Enter same passphrase again: Qiao1Wen2\n",
            "Your identification has been saved in /root/.ssh/id_rsa.\n",
            "Your public key has been saved in /root/.ssh/id_rsa.pub.\n",
            "The key fingerprint is:\n",
            "SHA256:pvpWjeYo60moqVxgEv6EFbOpu8ZadOuL+4MBR7aSGAc tqiaowen@gmail.com\n",
            "The key's randomart image is:\n",
            "+---[RSA 4096]----+\n",
            "|E. o             |\n",
            "|. + =            |\n",
            "|o* =             |\n",
            "|*.*              |\n",
            "|.X...   So       |\n",
            "|o.*o . o+ .      |\n",
            "|..o=o .=         |\n",
            "|.*++ooo .        |\n",
            "|Ooo+OB.          |\n",
            "+----[SHA256]-----+\n"
          ],
          "name": "stdout"
        }
      ]
    },
    {
      "cell_type": "markdown",
      "metadata": {
        "id": "yL7-ouiJ6yaG",
        "colab_type": "text"
      },
      "source": [
        "Adding to key to ssh agent"
      ]
    },
    {
      "cell_type": "code",
      "metadata": {
        "id": "aRAWXodB62D8",
        "colab_type": "code",
        "colab": {
          "base_uri": "https://localhost:8080/",
          "height": 34
        },
        "outputId": "750c6b8a-7822-4c1e-8a35-21c860ade5b1"
      },
      "source": [
        "!eval \"$(ssh-agent -s)\""
      ],
      "execution_count": 83,
      "outputs": [
        {
          "output_type": "stream",
          "text": [
            "Agent pid 1122\n"
          ],
          "name": "stdout"
        }
      ]
    },
    {
      "cell_type": "code",
      "metadata": {
        "id": "PDRDe5Hv8BQf",
        "colab_type": "code",
        "colab": {
          "base_uri": "https://localhost:8080/",
          "height": 51
        },
        "outputId": "863ddc6c-8fa7-41d3-f243-4e5984e9bed5"
      },
      "source": [
        "!ps aux | grep ssh"
      ],
      "execution_count": 87,
      "outputs": [
        {
          "output_type": "stream",
          "text": [
            "root        1122  0.0  0.0  11304   320 ?        Ss   05:40   0:00 ssh-agent -s\n",
            "root        1150  0.0  0.0  39192  6652 ?        S    05:45   0:00 /bin/bash -c ps aux | grep ssh\n"
          ],
          "name": "stdout"
        }
      ]
    },
    {
      "cell_type": "code",
      "metadata": {
        "id": "ltl4htE98E7X",
        "colab_type": "code",
        "colab": {}
      },
      "source": [
        "!kill 1122"
      ],
      "execution_count": 0,
      "outputs": []
    },
    {
      "cell_type": "code",
      "metadata": {
        "id": "SxWfsTon8OFZ",
        "colab_type": "code",
        "colab": {
          "base_uri": "https://localhost:8080/",
          "height": 34
        },
        "outputId": "d3aef6b9-32ba-4a35-dc29-28548c221480"
      },
      "source": [
        "!eval `ssh-agent -s`"
      ],
      "execution_count": 89,
      "outputs": [
        {
          "output_type": "stream",
          "text": [
            "Agent pid 1169\n"
          ],
          "name": "stdout"
        }
      ]
    },
    {
      "cell_type": "code",
      "metadata": {
        "id": "5Po3y_mE8UBA",
        "colab_type": "code",
        "colab": {
          "base_uri": "https://localhost:8080/",
          "height": 34
        },
        "outputId": "4153f0f1-c03e-42d5-9d93-5f0d02e18c5c"
      },
      "source": [
        "!ls ~/.ssh/"
      ],
      "execution_count": 90,
      "outputs": [
        {
          "output_type": "stream",
          "text": [
            "id_rsa\tid_rsa.pub\n"
          ],
          "name": "stdout"
        }
      ]
    },
    {
      "cell_type": "code",
      "metadata": {
        "id": "voDrPiXE67Sw",
        "colab_type": "code",
        "colab": {
          "base_uri": "https://localhost:8080/",
          "height": 34
        },
        "outputId": "4d676cdf-af06-43e8-c39b-7474fc93af84"
      },
      "source": [
        "!ssh-add /root/.ssh/id_rsa"
      ],
      "execution_count": 92,
      "outputs": [
        {
          "output_type": "stream",
          "text": [
            "Could not open a connection to your authentication agent.\n"
          ],
          "name": "stdout"
        }
      ]
    },
    {
      "cell_type": "code",
      "metadata": {
        "id": "lk1yH6-k0Q1u",
        "colab_type": "code",
        "colab": {
          "base_uri": "https://localhost:8080/",
          "height": 51
        },
        "outputId": "cbda8272-9cbb-409a-c8c8-4eccb2fa09ea"
      },
      "source": [
        "!git remote -v\n",
        "!git remote set-url origin git@github.com:tqiaowen/git_test.git"
      ],
      "execution_count": 76,
      "outputs": [
        {
          "output_type": "stream",
          "text": [
            "origin\tgit@github.com:tqiaowen/git_test.git (fetch)\n",
            "origin\tgit@github.com:tqiaowen/git_test.git (push)\n"
          ],
          "name": "stdout"
        }
      ]
    },
    {
      "cell_type": "code",
      "metadata": {
        "id": "up3mA7P-8sAU",
        "colab_type": "code",
        "colab": {
          "base_uri": "https://localhost:8080/",
          "height": 102
        },
        "outputId": "0a8b4909-2f11-4d58-ac69-3ffd2eeca6ee"
      },
      "source": [
        "!git pull origin master"
      ],
      "execution_count": 93,
      "outputs": [
        {
          "output_type": "stream",
          "text": [
            "Host key verification failed.\r\n",
            "fatal: Could not read from remote repository.\n",
            "\n",
            "Please make sure you have the correct access rights\n",
            "and the repository exists.\n"
          ],
          "name": "stdout"
        }
      ]
    }
  ]
}